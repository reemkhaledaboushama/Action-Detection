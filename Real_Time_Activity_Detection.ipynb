{
 "cells": [
  {
   "cell_type": "markdown",
   "id": "bf410ff3",
   "metadata": {},
   "source": [
    "<h1>Data Pre-processing </h1>"
   ]
  },
  {
   "cell_type": "markdown",
   "id": "e9d490c0",
   "metadata": {},
   "source": [
    "<b>When you first download the NTU dataset, you will find them divided into multiple zip files, and all are extracted into one unstructered folder</b>\n",
    "<b>Therefore, we will try to formalize the dataset, and categorize each video into a separate folder representing its class and corresponding label</b>"
   ]
  },
  {
   "cell_type": "code",
   "execution_count": 3,
   "id": "7685ee68",
   "metadata": {},
   "outputs": [],
   "source": [
    "#path to directory that contains raw videos\n",
    "\n",
    "#change this path accordingly\n",
    "\n",
    "path_of_dataset = r'D:\\LSTM\\nturgb+d_rgb'"
   ]
  },
  {
   "cell_type": "markdown",
   "id": "53a521a0",
   "metadata": {},
   "source": [
    "<b>For a clearer explanation of the dataset's structure, kindly refer to the dataset\\'s documentation (https://rose1.ntu.edu.sg/dataset/actionRecognition/)</b>"
   ]
  },
  {
   "cell_type": "markdown",
   "id": "250e9143",
   "metadata": {},
   "source": [
    "<b>according to the documentation: Each file/folder name in both datasets is in the format of SsssCcccPpppRrrrAaaa (e.g., S001C002P003R002A013), in which sss is the setup number, ccc is the camera ID, ppp is the performer (subject) ID, rrr is the replication number (1 or 2), and aaa is the action class label.</b>\n",
    " "
   ]
  },
  {
   "cell_type": "markdown",
   "id": "2cdcf337",
   "metadata": {},
   "source": [
    "<b>therefore, in order to correcrtly categorize each action into a different directory, we create a function that extracts the unique digits that represent a different activity (aaa), and insert each video file in a directory corresponding to that number , this way, we separate the different activities from each other </b>"
   ]
  },
  {
   "cell_type": "code",
   "execution_count": 6,
   "id": "8ff507bd",
   "metadata": {},
   "outputs": [],
   "source": [
    "def find_activity(path_of_dataset):\n",
    "    \n",
    "    for filename in os.listdir(path_of_dataset): #iterate over all videos in the directory \n",
    "        #to get last 3 digits right after \"_rgb.avi\" \n",
    "        action_number = filename[-11:-8] \n",
    "        \n",
    "        #now we save each video in a separate directory based on its \"action_number\"\n",
    "        newpath=f\"D:\\LSTM\\\\nturgb+d_rgb_labeled\\\\{action_number}\"\n",
    "        \n",
    "        #creates dir if it doesnt exist\n",
    "        if not os.path.exists(newpath):\n",
    "            os.makedirs(newpath)   \n",
    "\n",
    "        #moving the videos\n",
    "        if os.path.exists(newpath):\n",
    "            shutil.move(f\"D:\\LSTM\\\\nturgb+d_rgb\\{filename}\", newpath)"
   ]
  },
  {
   "cell_type": "code",
   "execution_count": 8,
   "id": "62c307f1",
   "metadata": {},
   "outputs": [],
   "source": [
    "import os\n",
    "import shutil\n",
    "find_activity(path_of_dataset)"
   ]
  }
 ],
 "metadata": {
  "kernelspec": {
   "display_name": "Python 3 (ipykernel)",
   "language": "python",
   "name": "python3"
  },
  "language_info": {
   "codemirror_mode": {
    "name": "ipython",
    "version": 3
   },
   "file_extension": ".py",
   "mimetype": "text/x-python",
   "name": "python",
   "nbconvert_exporter": "python",
   "pygments_lexer": "ipython3",
   "version": "3.8.13"
  }
 },
 "nbformat": 4,
 "nbformat_minor": 5
}
